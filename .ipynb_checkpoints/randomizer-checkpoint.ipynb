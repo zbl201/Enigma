{
 "cells": [
  {
   "cell_type": "markdown",
   "id": "881d64d7",
   "metadata": {},
   "source": [
    "#### Randomizing the symbols"
   ]
  },
  {
   "cell_type": "code",
   "execution_count": 15,
   "id": "b301275a",
   "metadata": {},
   "outputs": [],
   "source": [
    "import random"
   ]
  },
  {
   "cell_type": "code",
   "execution_count": 16,
   "id": "7d8e0965",
   "metadata": {},
   "outputs": [],
   "source": [
    "file = open(\"C:/Users/Zach/CS_personal/EM24/Encryption/symbols.txt.txt\", 'r')"
   ]
  },
  {
   "cell_type": "code",
   "execution_count": 17,
   "id": "42de1288",
   "metadata": {},
   "outputs": [
    {
     "data": {
      "text/plain": [
       "'abcdefghijklmnopqrstuvwxyz0123456789'"
      ]
     },
     "execution_count": 17,
     "metadata": {},
     "output_type": "execute_result"
    }
   ],
   "source": [
    "f = file.read()\n",
    "f"
   ]
  },
  {
   "cell_type": "code",
   "execution_count": 40,
   "id": "3f341d13",
   "metadata": {},
   "outputs": [],
   "source": [
    "file.close()"
   ]
  },
  {
   "cell_type": "code",
   "execution_count": 26,
   "id": "81d0acaa",
   "metadata": {},
   "outputs": [],
   "source": [
    "symbols = []\n",
    "for char in f:\n",
    "    symbols.append(char)\n",
    "    \n",
    "# symbols"
   ]
  },
  {
   "cell_type": "code",
   "execution_count": 38,
   "id": "442b7afe",
   "metadata": {},
   "outputs": [
    {
     "name": "stdout",
     "output_type": "stream",
     "text": [
      "['b', 'v', '2', '0', 'g', 'r', 'x', '7', 'j', 'w', 't', 'o', '1', 'n', 'f', 'm', 'c', 'z', 'l', '3', 'a', '8', 'h', '6', '5', 'd', 'q', 'u', 'e', 'p', 'y', 's', '9', '4', 'i', 'k']\n"
     ]
    }
   ],
   "source": [
    "random.seed(10)\n",
    "\n",
    "encryption = symbols\n",
    "random.shuffle(encryption)\n",
    "\n",
    "# print (encryption)"
   ]
  },
  {
   "cell_type": "code",
   "execution_count": 39,
   "id": "a612ddc0",
   "metadata": {},
   "outputs": [
    {
     "data": {
      "text/plain": [
       "'bv20grx7jwto1nfmczl3a8h65dquepys94ik'"
      ]
     },
     "execution_count": 39,
     "metadata": {},
     "output_type": "execute_result"
    }
   ],
   "source": [
    "output = \"\"\n",
    "for char in encryption:\n",
    "    output += char\n",
    "    \n",
    "output"
   ]
  },
  {
   "cell_type": "code",
   "execution_count": 41,
   "id": "57c8e573",
   "metadata": {},
   "outputs": [],
   "source": [
    "with open('symbols_randomized.txt', 'w') as f:\n",
    "    f.write(output)"
   ]
  },
  {
   "cell_type": "code",
   "execution_count": null,
   "id": "9fc3949e",
   "metadata": {},
   "outputs": [],
   "source": []
  }
 ],
 "metadata": {
  "kernelspec": {
   "display_name": "Python 3 (ipykernel)",
   "language": "python",
   "name": "python3"
  },
  "language_info": {
   "codemirror_mode": {
    "name": "ipython",
    "version": 3
   },
   "file_extension": ".py",
   "mimetype": "text/x-python",
   "name": "python",
   "nbconvert_exporter": "python",
   "pygments_lexer": "ipython3",
   "version": "3.9.13"
  }
 },
 "nbformat": 4,
 "nbformat_minor": 5
}
