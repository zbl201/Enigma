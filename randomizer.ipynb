{
 "cells": [
  {
   "cell_type": "markdown",
   "id": "12ddcd52",
   "metadata": {},
   "source": [
    "#### Randomizing the symbols"
   ]
  },
  {
   "cell_type": "code",
   "execution_count": 1,
   "id": "8583ed3a",
   "metadata": {},
   "outputs": [],
   "source": [
    "import random"
   ]
  },
  {
   "cell_type": "code",
   "execution_count": 2,
   "id": "ef09237e",
   "metadata": {},
   "outputs": [],
   "source": [
    "file = open(\"C:/Users/Zach/CS_personal/EM24/Encryption/symbols.txt.txt\", 'r')"
   ]
  },
  {
   "cell_type": "code",
   "execution_count": 3,
   "id": "d817cd6e",
   "metadata": {},
   "outputs": [
    {
     "data": {
      "text/plain": [
       "'abcdefghijklmnopqrstuvwxyz0123456789'"
      ]
     },
     "execution_count": 3,
     "metadata": {},
     "output_type": "execute_result"
    }
   ],
   "source": [
    "f = file.read()\n",
    "f"
   ]
  },
  {
   "cell_type": "code",
   "execution_count": 4,
   "id": "718ac801",
   "metadata": {},
   "outputs": [],
   "source": [
    "file.close()"
   ]
  },
  {
   "cell_type": "code",
   "execution_count": 5,
   "id": "ef337acb",
   "metadata": {},
   "outputs": [],
   "source": [
    "symbols = []\n",
    "for char in f:\n",
    "    symbols.append(char)\n",
    "    \n",
    "# symbols"
   ]
  },
  {
   "cell_type": "code",
   "execution_count": 6,
   "id": "d9840e2d",
   "metadata": {},
   "outputs": [],
   "source": [
    "random.seed(10)\n",
    "\n",
    "encryption = symbols\n",
    "random.shuffle(encryption)\n",
    "\n",
    "# print (encryption)"
   ]
  },
  {
   "cell_type": "code",
   "execution_count": 7,
   "id": "9bdc797c",
   "metadata": {},
   "outputs": [
    {
     "data": {
      "text/plain": [
       "'mr6s7wd8ezgyjtv5xlh9k2qbfui3p0ona41c'"
      ]
     },
     "execution_count": 7,
     "metadata": {},
     "output_type": "execute_result"
    }
   ],
   "source": [
    "output = \"\"\n",
    "for char in encryption:\n",
    "    output += char\n",
    "    \n",
    "output"
   ]
  },
  {
   "cell_type": "code",
   "execution_count": 8,
   "id": "984850b7",
   "metadata": {},
   "outputs": [],
   "source": [
    "with open('symbols_randomized.txt', 'w') as f:\n",
    "    f.write(output)"
   ]
  },
  {
   "cell_type": "code",
   "execution_count": null,
   "id": "3bf4c71e",
   "metadata": {},
   "outputs": [],
   "source": []
  }
 ],
 "metadata": {
  "kernelspec": {
   "display_name": "Python 3 (ipykernel)",
   "language": "python",
   "name": "python3"
  },
  "language_info": {
   "codemirror_mode": {
    "name": "ipython",
    "version": 3
   },
   "file_extension": ".py",
   "mimetype": "text/x-python",
   "name": "python",
   "nbconvert_exporter": "python",
   "pygments_lexer": "ipython3",
   "version": "3.9.13"
  }
 },
 "nbformat": 4,
 "nbformat_minor": 5
}
